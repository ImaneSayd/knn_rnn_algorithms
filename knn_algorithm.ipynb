{
 "cells": [
  {
   "cell_type": "code",
   "execution_count": 1,
   "metadata": {},
   "outputs": [],
   "source": [
    "import pandas as pd\n",
    "import numpy as np"
   ]
  },
  {
   "cell_type": "code",
   "execution_count": 2,
   "metadata": {},
   "outputs": [
    {
     "name": "stdout",
     "output_type": "stream",
     "text": [
      "Model Accuracy: 68.83%\n"
     ]
    }
   ],
   "source": [
    "class DataLogger:\n",
    "    def __init__(self, path):\n",
    "        data = pd.read_csv(path, index_col=0)  # Assuming the first column is an index\n",
    "        self.data_x = data.iloc[:, :-1].values  # Input data (all columns except the last)\n",
    "        self.data_y = data.iloc[:, -1].values   # Output data (last column)\n",
    "\n",
    "    def get_data(self):\n",
    "        return self.data_x, self.data_y\n",
    "\n",
    "class KNN:\n",
    "    def __init__(self, k):\n",
    "        self.k = k\n",
    "        self.data_x = None\n",
    "        self.data_y = None\n",
    "\n",
    "    def train(self, data_x, data_y):\n",
    "        self.data_x = data_x\n",
    "        self.data_y = data_y\n",
    "\n",
    "    def distance(self, x):\n",
    "        return np.sqrt(np.sum((self.data_x - x) ** 2, axis=1))\n",
    "\n",
    "    def predict(self, test_d):\n",
    "        distances = self.distance(test_d)\n",
    "        sorted_idx = np.argsort(distances)[:self.k]  # Indices of the k nearest neighbors\n",
    "\n",
    "        # Counting occurrences of each class in the top k\n",
    "        counter = [0, 0]  # Assuming binary classification (0 and 1)\n",
    "        for i in sorted_idx:\n",
    "            counter[self.data_y[i]] += 1\n",
    "\n",
    "        # Predicting the majority class\n",
    "        return 0 if counter[0] >= counter[1] else 1\n",
    "\n",
    "    def predict_matrix(self, test_matrix):\n",
    "        return [self.predict(test_d) for test_d in test_matrix]\n",
    "\n",
    "    def accuracy(self, test_x, test_y):\n",
    "        predictions = self.predict_matrix(test_x)\n",
    "        correct = sum(1 for pred, actual in zip(predictions, test_y) if pred == actual)\n",
    "        return correct / len(test_y) * 100\n",
    "\n",
    "# Creating a DataLogger and reading data\n",
    "datalogger = DataLogger(\"diabetes.csv\")\n",
    "data_x, data_y = datalogger.get_data()\n",
    "\n",
    "# Splitting data into training and testing sets (example: 80-20 split)\n",
    "split_idx = int(0.8 * len(data_x))\n",
    "train_x, train_y = data_x[:split_idx], data_y[:split_idx]\n",
    "test_x, test_y = data_x[split_idx:], data_y[split_idx:]\n",
    "\n",
    "# Training the KNN model\n",
    "knn = KNN(k=3)\n",
    "knn.train(train_x, train_y)\n",
    "\n",
    "# Evaluating the model\n",
    "accuracy = knn.accuracy(test_x, test_y)\n",
    "print(f\"Model Accuracy: {accuracy:.2f}%\")"
   ]
  }
 ],
 "metadata": {
  "kernelspec": {
   "display_name": "Python 3",
   "language": "python",
   "name": "python3"
  },
  "language_info": {
   "codemirror_mode": {
    "name": "ipython",
    "version": 3
   },
   "file_extension": ".py",
   "mimetype": "text/x-python",
   "name": "python",
   "nbconvert_exporter": "python",
   "pygments_lexer": "ipython3",
   "version": "3.13.0"
  }
 },
 "nbformat": 4,
 "nbformat_minor": 2
}
